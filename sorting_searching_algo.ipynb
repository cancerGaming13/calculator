{
  "cells": [
    {
      "cell_type": "markdown",
      "metadata": {
        "id": "view-in-github",
        "colab_type": "text"
      },
      "source": [
        "<a href=\"https://colab.research.google.com/github/cancerGaming13/calculator/blob/main/sorting_searching_algo.ipynb\" target=\"_parent\"><img src=\"https://colab.research.google.com/assets/colab-badge.svg\" alt=\"Open In Colab\"/></a>"
      ]
    },
    {
      "cell_type": "code",
      "execution_count": 25,
      "metadata": {
        "colab": {
          "base_uri": "https://localhost:8080/"
        },
        "id": "f__iePP8XtWU",
        "outputId": "87726d73-db4c-45ca-8b69-22b93093fa06"
      },
      "outputs": [
        {
          "output_type": "stream",
          "name": "stdout",
          "text": [
            "1\n",
            "12\n",
            "7\n",
            "5\n",
            "23\n",
            "21\n",
            "40\n",
            "78\n"
          ]
        }
      ],
      "source": [
        "#bubble-sort\n",
        "import array as arr\n",
        "\n",
        "sample=[23,1,12,7,5,78,21,40]\n",
        "sample_as_arr=arr.array('i',sample)\n",
        "num1=0\n",
        "num2=0\n",
        "for  i in range(len(sample_as_arr)-1):\n",
        "  num1=sample_as_arr[i]\n",
        "  num2=sample_as_arr[i+1]\n",
        "  if sample_as_arr[i]>sample_as_arr[i+1]:\n",
        "    sample_as_arr[i]=num2\n",
        "    sample_as_arr[i+1]=num1\n",
        "for num in sample_as_arr:\n",
        "  print(num)\n",
        "\n"
      ]
    },
    {
      "cell_type": "code",
      "source": [
        "import array as arr\n",
        "def bubble_sort(a_list):\n",
        "  myarr=arr.array('i', a_list)\n",
        "\n",
        "  for i in range(len(myarr)):\n",
        "    for j in range(len(myarr)-1):\n",
        "      if myarr[j]>myarr[j+1]:\n",
        "        myarr[j], myarr[j+1]=myarr[j+1], myarr[j]\n",
        "  return myarr\n",
        "\n",
        "sample=[23,1,12,7,5,78,40]\n",
        "\n",
        "for x in bubble_sort(sample):\n",
        "  print(x)\n"
      ],
      "metadata": {
        "id": "2Lzb9J6ihm6L"
      },
      "execution_count": null,
      "outputs": []
    },
    {
      "cell_type": "code",
      "source": [
        "#selection_sort\n",
        "import array as arr\n",
        "def selection_sort(arr):\n",
        "    n = len(arr)\n",
        "    for i in range(n):\n",
        "        min_idx = i\n",
        "        for j in range(i+1, n):\n",
        "            if arr[j] < arr[min_idx]:\n",
        "                min_idx = j\n",
        "        arr[i], arr[min_idx] = arr[min_idx], arr[i]\n",
        "    return arr\n",
        "\n",
        "sample=arr.array('i',[23,1,5,4])\n",
        "\n",
        "for  x in selection_sort(sample):\n",
        "  print(x)\n"
      ],
      "metadata": {
        "id": "rE2ThtiEoJSK",
        "outputId": "2ff5d817-f513-490e-f204-a40bad0fd1af",
        "colab": {
          "base_uri": "https://localhost:8080/"
        }
      },
      "execution_count": 27,
      "outputs": [
        {
          "output_type": "stream",
          "name": "stdout",
          "text": [
            "1\n",
            "4\n",
            "5\n",
            "23\n"
          ]
        }
      ]
    },
    {
      "cell_type": "code",
      "source": [
        "#binary_search\n",
        "import array as arr\n",
        "def search(a_list, target):\n",
        "  a_list=arr.array('i',a_list)\n",
        "\n",
        "  low=0\n",
        "  high=len(a_list)-1\n",
        "\n",
        "  while low<=high:\n",
        "    mid=low+(high-low)//2\n",
        "    if target==a_list[mid]:\n",
        "      return mid\n",
        "    elif a_list[mid]<target:\n",
        "      low=mid+1\n",
        "    elif a_list[mid]>target:\n",
        "      high=mid-1\n",
        "  return False\n",
        "\n",
        "\n",
        "sample=[1,3,5,12,45]\n",
        "res=search(sample,13)\n",
        "if res is not False:\n",
        "  print(\"Found at index: \"+str(res))\n",
        "else:\n",
        "  print(\"Not found!\")\n"
      ],
      "metadata": {
        "id": "aaYdKacP2nj5",
        "outputId": "5c5cce8d-0c41-4888-b9f2-c58f214a7d03",
        "colab": {
          "base_uri": "https://localhost:8080/"
        }
      },
      "execution_count": 42,
      "outputs": [
        {
          "output_type": "stream",
          "name": "stdout",
          "text": [
            "Not found!\n"
          ]
        }
      ]
    },
    {
      "cell_type": "code",
      "source": [
        "\n",
        "#quicksort\n",
        "\n",
        "def quicky(an_arr):\n",
        "  if len(an_arr)<=1:\n",
        "    return an_arr\n",
        "  pivot=an_arr[len(an_arr)//2]\n",
        "  left=[x for x in an_arr if x<pivot]\n",
        "  mid=[x for x in an_arr if x==pivot]\n",
        "  high=[x for x in an_arr if x>pivot]\n",
        "\n",
        "  return quicky(left)+mid+quicky(high)\n",
        "\n",
        "sample=[3,5,1,4,2]\n",
        "\n",
        "print(quicky(sample))"
      ],
      "metadata": {
        "id": "Cy5dxnWT-ouZ",
        "outputId": "4ceb30b1-f9a8-4b21-88c6-e2a9db04cc5a",
        "colab": {
          "base_uri": "https://localhost:8080/"
        }
      },
      "execution_count": 49,
      "outputs": [
        {
          "output_type": "stream",
          "name": "stdout",
          "text": [
            "[1, 2, 3, 4, 5]\n"
          ]
        }
      ]
    },
    {
      "cell_type": "code",
      "source": [
        "#problem\n",
        "\n",
        "#arr = [4, 2, 6, 5, 8], target = 10, find if there are sum of integers in the list that equal to the target\n",
        "import array as arr\n",
        "\n",
        "def sort(array_):\n",
        "  for x in range(len(array_)):\n",
        "    for y in range(len(array_)-1):\n",
        "      if array_[y]<array_[y+1]:\n",
        "        array_[y], array_[y+1]=array_[y+1], array_[y]\n",
        "  return array_\n",
        "\n",
        "def search(sorted_arr, target):\n",
        "  low=0\n",
        "  high=len(sorted_arr)-1\n",
        "  while low<=high:\n",
        "    mid=low+(high-low)//2\n",
        "    if sorted_arr[mid]+sorted_arr[mid]<target:\n",
        "      for x in range(mid):\n",
        "        for y in range(mid):\n",
        "          if x+y==target:\n",
        "            return True\n",
        "    else:\n",
        "      for x in range(mid, high):\n",
        "        for y in range(mid, high):\n",
        "          if x+y==target:\n",
        "            return True\n",
        "\n",
        "\n",
        "my_arr = [4, 2, 6, 5, 8]\n",
        "target=10\n",
        "\n",
        "\n",
        "\n"
      ],
      "metadata": {
        "id": "Q3eb8skCNeV9"
      },
      "execution_count": null,
      "outputs": []
    }
  ],
  "metadata": {
    "colab": {
      "provenance": [],
      "authorship_tag": "ABX9TyNd/EHnKiRodtBcpjCIHIHr",
      "include_colab_link": true
    },
    "kernelspec": {
      "display_name": "Python 3",
      "name": "python3"
    },
    "language_info": {
      "name": "python"
    }
  },
  "nbformat": 4,
  "nbformat_minor": 0
}